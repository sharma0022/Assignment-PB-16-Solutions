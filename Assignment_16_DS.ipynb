{
 "cells": [
  {
   "cell_type": "markdown",
   "id": "ccca9203",
   "metadata": {},
   "source": [
    "# Assignment 16 Solutions"
   ]
  },
  {
   "cell_type": "markdown",
   "id": "fb6eb3ba",
   "metadata": {},
   "source": [
    "Q.1. Create a list called years_list, starting with the year of your birth, and each year thereafter until\n",
    "     the year of your fifth birthday. For example, if you were born in 1980. the list would be years_list =\n",
    "     [1980, 1981, 1982, 1983, 1984, 1985].\n",
    "\n",
    "Ans: "
   ]
  },
  {
   "cell_type": "code",
   "execution_count": 2,
   "id": "94899622",
   "metadata": {},
   "outputs": [
    {
     "name": "stdout",
     "output_type": "stream",
     "text": [
      "[1993, 1994, 1995, 1996, 1997, 1998]\n"
     ]
    }
   ],
   "source": [
    "years_list = [ele for ele in range(1993,1993+6)]\n",
    "print(years_list)"
   ]
  },
  {
   "cell_type": "markdown",
   "id": "5eea0c93",
   "metadata": {},
   "source": [
    "Q.2. In which year in years_list was your third birthday? Remember, you were 0 years of age for your\n",
    "     first year.\n",
    "    \n",
    "Ans: "
   ]
  },
  {
   "cell_type": "code",
   "execution_count": 3,
   "id": "aa9574e6",
   "metadata": {},
   "outputs": [
    {
     "name": "stdout",
     "output_type": "stream",
     "text": [
      "1996\n"
     ]
    }
   ],
   "source": [
    "print(years_list[3])"
   ]
  },
  {
   "cell_type": "markdown",
   "id": "1a3928c0",
   "metadata": {},
   "source": [
    "Q.3. In the years list, which year were you the oldest?\n",
    "\n",
    "Ans: "
   ]
  },
  {
   "cell_type": "code",
   "execution_count": 4,
   "id": "22b3f045",
   "metadata": {},
   "outputs": [
    {
     "name": "stdout",
     "output_type": "stream",
     "text": [
      "1998\n"
     ]
    }
   ],
   "source": [
    "print(years_list[-1])"
   ]
  },
  {
   "cell_type": "markdown",
   "id": "8af3af1a",
   "metadata": {},
   "source": [
    "Q.4. Make a list called things with these three strings as elements: &quot;mozzarella&quot;, &quot;cinderella&quot;,\n",
    "     &quot;salmonella&quot;.\n",
    "     \n",
    "Ans: "
   ]
  },
  {
   "cell_type": "code",
   "execution_count": 5,
   "id": "c67be2d6",
   "metadata": {},
   "outputs": [
    {
     "name": "stdout",
     "output_type": "stream",
     "text": [
      "['mozzarella', 'cinderella', 'salmonella']\n"
     ]
    }
   ],
   "source": [
    "things = [ele+'ella' for ele in ['mozzar','cinder','salmon']]\n",
    "print(things)"
   ]
  },
  {
   "cell_type": "markdown",
   "id": "eaf54261",
   "metadata": {},
   "source": [
    "Q.5. Capitalize the element in things that refers to a person and then print the list. Did it change the element in the          list?\n",
    "\n",
    "Ans: "
   ]
  },
  {
   "cell_type": "code",
   "execution_count": 6,
   "id": "26925974",
   "metadata": {},
   "outputs": [
    {
     "name": "stdout",
     "output_type": "stream",
     "text": [
      "['mozzarella', 'Cinderella', 'salmonella']\n"
     ]
    }
   ],
   "source": [
    "things = [\"mozzarella\", \"cinderella\", \"salmonella\"]\n",
    "\n",
    "things[1] = things[1].capitalize()\n",
    "\n",
    "print(things)\n"
   ]
  },
  {
   "cell_type": "code",
   "execution_count": 7,
   "id": "370c9258",
   "metadata": {},
   "outputs": [
    {
     "name": "stdout",
     "output_type": "stream",
     "text": [
      "['mozzarella', 'Cinderella', 'salmonella']\n"
     ]
    }
   ],
   "source": [
    "for ele in range(len(things)):\n",
    "    if things[ele] == 'cinderella':\n",
    "        things[ele] = things[ele].capitalize()\n",
    "print(things)"
   ]
  },
  {
   "cell_type": "markdown",
   "id": "c86bb01f",
   "metadata": {},
   "source": [
    "Q.6. Make a surprise list with the elements &quot;Groucho,&quot; &quot;Chico,&quot; and &quot;Harpo.&quot;\n",
    "\n",
    "Ans: "
   ]
  },
  {
   "cell_type": "code",
   "execution_count": 9,
   "id": "4696182b",
   "metadata": {},
   "outputs": [
    {
     "name": "stdout",
     "output_type": "stream",
     "text": [
      "['Groucho', 'Chico', 'Harpo']\n"
     ]
    }
   ],
   "source": [
    "suprise_list = ['Groucho','Chico','Harpo']\n",
    "print(suprise_list)"
   ]
  },
  {
   "cell_type": "markdown",
   "id": "0b33f312",
   "metadata": {},
   "source": [
    "Q.7. Lowercase the last element of the surprise list, reverse it, and then capitalize it.\n",
    "\n",
    "Ans: "
   ]
  },
  {
   "cell_type": "code",
   "execution_count": 10,
   "id": "7950cf4c",
   "metadata": {},
   "outputs": [
    {
     "name": "stdout",
     "output_type": "stream",
     "text": [
      "['Groucho', 'Chico', 'Oprah']\n"
     ]
    }
   ],
   "source": [
    "surprise = [\"Groucho\", \"Chico\", \"Harpo\"]\n",
    "\n",
    "last_element = surprise[-1].lower()\n",
    "reversed_element = last_element[::-1]\n",
    "capitalized_element = reversed_element.capitalize()\n",
    "\n",
    "surprise[-1] = capitalized_element\n",
    "\n",
    "print(surprise)\n"
   ]
  },
  {
   "cell_type": "markdown",
   "id": "838cfcd4",
   "metadata": {},
   "source": [
    "Q.8. Make an English-to-French dictionary called e2f and print it. Here are your starter words: dog is\n",
    "     chien, cat is chat, and walrus is morse.\n",
    "     \n",
    "Ans: "
   ]
  },
  {
   "cell_type": "code",
   "execution_count": 12,
   "id": "c40e6bc5",
   "metadata": {},
   "outputs": [
    {
     "name": "stdout",
     "output_type": "stream",
     "text": [
      "{'dog': 'chien', 'cat': 'chat', 'walrus': 'morse'}\n"
     ]
    }
   ],
   "source": [
    "e2f = {\"dog\": \"chien\", \"cat\": \"chat\", \"walrus\": \"morse\"}\n",
    "print(e2f)\n"
   ]
  },
  {
   "cell_type": "markdown",
   "id": "4f5fa185",
   "metadata": {},
   "source": [
    "Q.9. Write the French word for walrus in your three-word dictionary e2f.\n",
    "\n",
    "Ans: "
   ]
  },
  {
   "cell_type": "code",
   "execution_count": 13,
   "id": "020fb927",
   "metadata": {},
   "outputs": [
    {
     "name": "stdout",
     "output_type": "stream",
     "text": [
      "morse\n"
     ]
    }
   ],
   "source": [
    "e2f = {\"dog\": \"chien\", \"cat\": \"chat\", \"walrus\": \"morse\"}\n",
    "\n",
    "french_word = e2f[\"walrus\"]\n",
    "print(french_word)\n"
   ]
  },
  {
   "cell_type": "markdown",
   "id": "c32dcd88",
   "metadata": {},
   "source": [
    "Q.10. Make a French-to-English dictionary called f2e from e2f. Use the items method.\n",
    "\n",
    "Ans:  "
   ]
  },
  {
   "cell_type": "code",
   "execution_count": 14,
   "id": "e9023f74",
   "metadata": {},
   "outputs": [
    {
     "name": "stdout",
     "output_type": "stream",
     "text": [
      "{'chien': 'dog', 'chat': 'cat', 'morse': 'walrus'}\n"
     ]
    }
   ],
   "source": [
    "e2f = {\"dog\": \"chien\", \"cat\": \"chat\", \"walrus\": \"morse\"}\n",
    "\n",
    "f2e = {}\n",
    "for english, french in e2f.items():\n",
    "    f2e[french] = english\n",
    "\n",
    "print(f2e)\n"
   ]
  },
  {
   "cell_type": "markdown",
   "id": "db6f42df",
   "metadata": {},
   "source": [
    "Q.11. Print the English version of the French word chien using f2e.\n",
    "\n",
    "Ans:  "
   ]
  },
  {
   "cell_type": "code",
   "execution_count": 15,
   "id": "c866a06e",
   "metadata": {},
   "outputs": [
    {
     "name": "stdout",
     "output_type": "stream",
     "text": [
      "dog\n"
     ]
    }
   ],
   "source": [
    "f2e = {'chien': 'dog', 'chat': 'cat', 'morse': 'walrus'}\n",
    "\n",
    "english_word = f2e['chien']\n",
    "print(english_word)\n"
   ]
  },
  {
   "cell_type": "markdown",
   "id": "21d6d2b9",
   "metadata": {},
   "source": [
    "Q.12. Make and print a set of English words from the keys in e2f.\n",
    "\n",
    "Ans:  "
   ]
  },
  {
   "cell_type": "code",
   "execution_count": 16,
   "id": "4a6f3502",
   "metadata": {},
   "outputs": [
    {
     "name": "stdout",
     "output_type": "stream",
     "text": [
      "{'cat', 'walrus', 'dog'}\n"
     ]
    }
   ],
   "source": [
    "e2f = {\"dog\": \"chien\", \"cat\": \"chat\", \"walrus\": \"morse\"}\n",
    "\n",
    "english_words = set(e2f.keys())\n",
    "\n",
    "print(english_words)\n"
   ]
  },
  {
   "cell_type": "markdown",
   "id": "c1b83051",
   "metadata": {},
   "source": [
    "Q.13. Make a multilevel dictionary called life. Use these strings for the topmost keys: &#39;animals&#39;,                       &#39;plants&#39;, and &#39;other&#39;. Make the &#39;animals&#39; key refer to another dictionary with the keys             &#39;cats&#39;, &#39;octopi&#39;, and &#39;emus&#39;. Make the &#39;cats&#39; key refer to a list of strings with the       values &#39;Henri&#39;, &#39;Grumpy&#39;, and &#39;Lucy&#39;.\n",
    "      Make all the other keys refer to empty dictionaries.\n",
    "      \n",
    "Ans:  "
   ]
  },
  {
   "cell_type": "code",
   "execution_count": 17,
   "id": "b34561f4",
   "metadata": {},
   "outputs": [
    {
     "name": "stdout",
     "output_type": "stream",
     "text": [
      "{'animals': {'cats': ['Henri', 'Grumpy', 'Lucy'], 'octopi': {}, 'emus': {}}, 'plants': {}, 'other': {}}\n"
     ]
    }
   ],
   "source": [
    "life = {\n",
    "    'animals': {\n",
    "        'cats': ['Henri', 'Grumpy', 'Lucy'],\n",
    "        'octopi': {},\n",
    "        'emus': {}\n",
    "    },\n",
    "    'plants': {},\n",
    "    'other': {}\n",
    "}\n",
    "\n",
    "print(life)\n"
   ]
  },
  {
   "cell_type": "markdown",
   "id": "bff6b9fd",
   "metadata": {},
   "source": [
    "Q.14. Print the top-level keys of life.\n",
    "\n",
    "Ans:  "
   ]
  },
  {
   "cell_type": "code",
   "execution_count": 18,
   "id": "832cf59c",
   "metadata": {},
   "outputs": [
    {
     "name": "stdout",
     "output_type": "stream",
     "text": [
      "['animals', 'plants', 'other']\n"
     ]
    }
   ],
   "source": [
    "life = {\n",
    "    'animals': {\n",
    "        'cats': ['Henri', 'Grumpy', 'Lucy'],\n",
    "        'octopi': {},\n",
    "        'emus': {}\n",
    "    },\n",
    "    'plants': {},\n",
    "    'other': {}\n",
    "}\n",
    "\n",
    "top_level_keys = life.keys()\n",
    "\n",
    "print(list(top_level_keys))\n"
   ]
  },
  {
   "cell_type": "markdown",
   "id": "9993a5ff",
   "metadata": {},
   "source": [
    "Q.15. Print the keys for life[&#39;animals&#39;].\n",
    "                              \n",
    "Ans:  "
   ]
  },
  {
   "cell_type": "code",
   "execution_count": 19,
   "id": "9b6c3a6b",
   "metadata": {},
   "outputs": [
    {
     "name": "stdout",
     "output_type": "stream",
     "text": [
      "['cats', 'octopi', 'emus']\n"
     ]
    }
   ],
   "source": [
    "life = {\n",
    "    'animals': {\n",
    "        'cats': ['Henri', 'Grumpy', 'Lucy'],\n",
    "        'octopi': {},\n",
    "        'emus': {}\n",
    "    },\n",
    "    'plants': {},\n",
    "    'other': {}\n",
    "}\n",
    "\n",
    "animal_keys = life['animals'].keys()\n",
    "\n",
    "print(list(animal_keys))\n"
   ]
  },
  {
   "cell_type": "markdown",
   "id": "eee05746",
   "metadata": {},
   "source": [
    "Q.16. Print the values for life['animals']['cats']\n",
    "\n",
    "Ans:  "
   ]
  },
  {
   "cell_type": "code",
   "execution_count": 20,
   "id": "1e688796",
   "metadata": {},
   "outputs": [
    {
     "name": "stdout",
     "output_type": "stream",
     "text": [
      "['Henri', 'Grumpy', 'Lucy']\n"
     ]
    }
   ],
   "source": [
    "life = {\n",
    "    'animals': {\n",
    "        'cats': ['Henri', 'Grumpy', 'Lucy'],\n",
    "        'octopi': {},\n",
    "        'emus': {}\n",
    "    },\n",
    "    'plants': {},\n",
    "    'other': {}\n",
    "}\n",
    "\n",
    "cat_values = life['animals']['cats']\n",
    "\n",
    "print(cat_values)\n"
   ]
  },
  {
   "cell_type": "code",
   "execution_count": null,
   "id": "7a03895b",
   "metadata": {},
   "outputs": [],
   "source": []
  }
 ],
 "metadata": {
  "kernelspec": {
   "display_name": "Python 3 (ipykernel)",
   "language": "python",
   "name": "python3"
  },
  "language_info": {
   "codemirror_mode": {
    "name": "ipython",
    "version": 3
   },
   "file_extension": ".py",
   "mimetype": "text/x-python",
   "name": "python",
   "nbconvert_exporter": "python",
   "pygments_lexer": "ipython3",
   "version": "3.9.12"
  }
 },
 "nbformat": 4,
 "nbformat_minor": 5
}
